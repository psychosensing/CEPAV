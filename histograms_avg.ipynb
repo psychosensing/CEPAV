{
 "cells": [
  {
   "cell_type": "markdown",
   "id": "d383c7c6-d1d6-491b-ba6a-e91478f60821",
   "metadata": {},
   "source": [
    "### Imports"
   ]
  },
  {
   "cell_type": "code",
   "execution_count": 1,
   "id": "087bbf8f-a313-4849-9275-fd3fb63c619a",
   "metadata": {},
   "outputs": [],
   "source": [
    "from glob import glob\n",
    "import pandas as pd\n",
    "import matplotlib\n",
    "import matplotlib.pyplot as plt\n",
    "import re\n",
    "import tqdm\n",
    "import numpy as np\n",
    "import os"
   ]
  },
  {
   "cell_type": "markdown",
   "id": "0c17f3a5-dacd-459f-9a1a-a194b2933048",
   "metadata": {},
   "source": [
    "### Reading datafiles"
   ]
  },
  {
   "cell_type": "code",
   "execution_count": 2,
   "id": "9ec6112e-29bf-41df-ae9d-6d42a94b0961",
   "metadata": {},
   "outputs": [],
   "source": [
    "use_columns = {\"HR\": [30,150], \"DBP\": [30, 150], \"SBP\": [60, 120], \"CO\": [0,15], \"TPR\": [1,10], \"tl\": [-9999], \"tr\": [-9999], \"wr\": [-9999]}"
   ]
  },
  {
   "cell_type": "code",
   "execution_count": 3,
   "id": "71c5d18c-c5de-4c90-a759-5ad8b629172b",
   "metadata": {},
   "outputs": [],
   "source": [
    "bins=20"
   ]
  },
  {
   "cell_type": "code",
   "execution_count": 4,
   "id": "1e8903f7-b3ea-4573-95b2-08dbb140671c",
   "metadata": {},
   "outputs": [],
   "source": [
    "s1_output_paths = sorted(glob(\"VU_AMS/s1_output/*.csv\", recursive=True), key=lambda x: f'{int(re.search(\"p([0-9]+)\", x).group(1)):03}')[:2]\n",
    "s2_output_paths = sorted(glob(\"VU_AMS/s2_output/*.csv\", recursive=True), key=lambda x: f'{int(re.search(\"p([0-9]+)\", x).group(1)):03}')"
   ]
  },
  {
   "cell_type": "code",
   "execution_count": 5,
   "id": "36c18dca-7ac9-4b77-b4cf-d88100a18357",
   "metadata": {},
   "outputs": [],
   "source": [
    "process_paths = s1_output_paths"
   ]
  },
  {
   "cell_type": "code",
   "execution_count": 6,
   "id": "a17ea612-45cc-41b0-a21c-745bd498e2fc",
   "metadata": {},
   "outputs": [
    {
     "name": "stdout",
     "output_type": "stream",
     "text": [
      "S1_p1.csv\n"
     ]
    }
   ],
   "source": [
    "print(os.path.basename(process_paths[0]))"
   ]
  },
  {
   "cell_type": "code",
   "execution_count": 8,
   "id": "a5b6419b-0078-43b1-b70f-e66e5d283a54",
   "metadata": {},
   "outputs": [
    {
     "name": "stderr",
     "output_type": "stream",
     "text": [
      "  0%|          | 0/2 [00:00<?, ?it/s]"
     ]
    }
   ],
   "source": [
    "pbar = tqdm.tqdm(process_paths)\n",
    "participant_columns_avergage = {}\n",
    "columns_avergage = {}\n",
    "avg_loaded_paths = []"
   ]
  },
  {
   "cell_type": "markdown",
   "id": "dd6088e9-6831-4639-9137-1ea6ce578ee3",
   "metadata": {},
   "source": [
    "### Calculate average values per participant per column"
   ]
  },
  {
   "cell_type": "code",
   "execution_count": 9,
   "id": "17b85e43-4b51-418b-bab4-4751e5a6764e",
   "metadata": {},
   "outputs": [
    {
     "name": "stderr",
     "output_type": "stream",
     "text": [
      "AVG Processing VU_AMS/s1_output/S1_p2.csv: 100%|██████████| 2/2 [01:08<00:00, 34.38s/it]\n"
     ]
    }
   ],
   "source": [
    "for participant_path in pbar:\n",
    "    if participant_path in avg_loaded_paths:\n",
    "        pbar.set_description(\"AVG skipping %s\" % participant_path)\n",
    "        continue\n",
    "    pbar.set_description(\"AVG Processing %s\" % participant_path)\n",
    "    participant_name = os.path.basename(participant_path)\n",
    "    if participant_name not in participant_columns_avergage:\n",
    "        participant_columns_avergage[participant_name] = {}\n",
    "    df = pd.read_csv(participant_path, header=0)\n",
    "    # for column_name in df.columns.difference(['timestamp']):\n",
    "    for column_name in use_columns:\n",
    "        if len(use_columns[column_name]) > 1:\n",
    "            df_between = df[column_name][df[column_name].between(use_columns[column_name][0], use_columns[column_name][1], inclusive=\"both\")]\n",
    "        else:\n",
    "            df_between = df[column_name][df[column_name] != use_columns[column_name][0]]   \n",
    "        average_value = df_between.mean()\n",
    "        participant_columns_avergage[participant_name][column_name] =  average_value\n",
    "        if column_name not in columns_avergage:\n",
    "            columns_avergage[column_name] = []\n",
    "        columns_avergage[column_name].append(average_value)    \n",
    "        \n",
    "    avg_loaded_paths.append(participant_path)\n",
    "    if pbar.n % 5 == 0:\n",
    "        pbar.set_description(\"Dump avg values, loaded paths\")    "
   ]
  },
  {
   "cell_type": "code",
   "execution_count": 10,
   "id": "8dfa6ab7-e0e2-4e96-a37e-80d3fe518ccb",
   "metadata": {},
   "outputs": [
    {
     "data": {
      "text/html": [
       "<div>\n",
       "<style scoped>\n",
       "    .dataframe tbody tr th:only-of-type {\n",
       "        vertical-align: middle;\n",
       "    }\n",
       "\n",
       "    .dataframe tbody tr th {\n",
       "        vertical-align: top;\n",
       "    }\n",
       "\n",
       "    .dataframe thead th {\n",
       "        text-align: right;\n",
       "    }\n",
       "</style>\n",
       "<table border=\"1\" class=\"dataframe\">\n",
       "  <thead>\n",
       "    <tr style=\"text-align: right;\">\n",
       "      <th></th>\n",
       "      <th>S1_p1.csv</th>\n",
       "      <th>S1_p2.csv</th>\n",
       "    </tr>\n",
       "  </thead>\n",
       "  <tbody>\n",
       "    <tr>\n",
       "      <th>HR</th>\n",
       "      <td>72.903456</td>\n",
       "      <td>92.045966</td>\n",
       "    </tr>\n",
       "    <tr>\n",
       "      <th>DBP</th>\n",
       "      <td>82.461774</td>\n",
       "      <td>69.592564</td>\n",
       "    </tr>\n",
       "    <tr>\n",
       "      <th>SBP</th>\n",
       "      <td>117.548387</td>\n",
       "      <td>113.329086</td>\n",
       "    </tr>\n",
       "    <tr>\n",
       "      <th>CO</th>\n",
       "      <td>6.647408</td>\n",
       "      <td>9.307083</td>\n",
       "    </tr>\n",
       "    <tr>\n",
       "      <th>TPR</th>\n",
       "      <td>1.163451</td>\n",
       "      <td>1.601864</td>\n",
       "    </tr>\n",
       "    <tr>\n",
       "      <th>tl</th>\n",
       "      <td>0.288465</td>\n",
       "      <td>0.533867</td>\n",
       "    </tr>\n",
       "    <tr>\n",
       "      <th>tr</th>\n",
       "      <td>0.252293</td>\n",
       "      <td>0.362638</td>\n",
       "    </tr>\n",
       "    <tr>\n",
       "      <th>wr</th>\n",
       "      <td>10.000150</td>\n",
       "      <td>17.279097</td>\n",
       "    </tr>\n",
       "  </tbody>\n",
       "</table>\n",
       "</div>"
      ],
      "text/plain": [
       "      S1_p1.csv   S1_p2.csv\n",
       "HR    72.903456   92.045966\n",
       "DBP   82.461774   69.592564\n",
       "SBP  117.548387  113.329086\n",
       "CO     6.647408    9.307083\n",
       "TPR    1.163451    1.601864\n",
       "tl     0.288465    0.533867\n",
       "tr     0.252293    0.362638\n",
       "wr    10.000150   17.279097"
      ]
     },
     "execution_count": 10,
     "metadata": {},
     "output_type": "execute_result"
    }
   ],
   "source": [
    "pd.DataFrame(participant_columns_avergage)"
   ]
  },
  {
   "cell_type": "code",
   "execution_count": 8,
   "id": "3d8811f4-7c8c-4d27-86aa-7e74e84a3905",
   "metadata": {},
   "outputs": [
    {
     "data": {
      "text/plain": [
       "array([[<Axes: title={'center': 'HR'}>, <Axes: title={'center': 'DBP'}>,\n",
       "        <Axes: title={'center': 'SBP'}>, <Axes: title={'center': 'CO'}>],\n",
       "       [<Axes: title={'center': 'TPR'}>, <Axes: title={'center': 'tl'}>,\n",
       "        <Axes: title={'center': 'tr'}>, <Axes: title={'center': 'wr'}>]],\n",
       "      dtype=object)"
      ]
     },
     "execution_count": 8,
     "metadata": {},
     "output_type": "execute_result"
    },
    {
     "data": {
      "image/png": "[encoded data removed]",
      "text/plain": [
       "<Figure size 2300x1000 with 8 Axes>"
      ]
     },
     "metadata": {},
     "output_type": "display_data"
    }
   ],
   "source": [
    "pd.DataFrame(columns_avergage).hist(figsize=(23,10), bins=bins, layout=(2,4))"
   ]
  }
 ],
 "metadata": {
  "kernelspec": {
   "display_name": "Python 3 (ipykernel)",
   "language": "python",
   "name": "python3"
  },
  "language_info": {
   "codemirror_mode": {
    "name": "ipython",
    "version": 3
   },
   "file_extension": ".py",
   "mimetype": "text/x-python",
   "name": "python",
   "nbconvert_exporter": "python",
   "pygments_lexer": "ipython3",
   "version": "3.10.12"
  }
 },
 "nbformat": 4,
 "nbformat_minor": 5
}
